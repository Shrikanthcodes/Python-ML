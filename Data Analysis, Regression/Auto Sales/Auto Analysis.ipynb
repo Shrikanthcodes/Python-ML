{
 "cells": [
  {
   "cell_type": "code",
   "execution_count": 28,
   "metadata": {},
   "outputs": [],
   "source": [
    "import pandas as pd\n",
    "import numpy as np\n",
    "from sklearn.preprocessing import LabelEncoder\n",
    "from sklearn.preprocessing import MinMaxScaler, StandardScaler\n",
    "from sklearn.metrics import accuracy_score,confusion_matrix, classification_report, precision_score, recall_score\n",
    "from sklearn.svm import SVC\n",
    "from sklearn.model_selection import GridSearchCV, cross_val_score\n",
    "from sklearn.model_selection import train_test_split\n",
    "import matplotlib.pyplot as plt\n",
    "import seaborn as sns"
   ]
  },
  {
   "cell_type": "code",
   "execution_count": 2,
   "metadata": {},
   "outputs": [],
   "source": [
    "#Loading the dataset after covnverting it to a .csv format manually\n",
    "data = pd.read_csv('Auto.csv')"
   ]
  },
  {
   "cell_type": "code",
   "execution_count": 3,
   "metadata": {},
   "outputs": [
    {
     "name": "stdout",
     "output_type": "stream",
     "text": [
      "<class 'pandas.core.frame.DataFrame'>\n",
      "RangeIndex: 397 entries, 0 to 396\n",
      "Data columns (total 9 columns):\n",
      " #   Column        Non-Null Count  Dtype  \n",
      "---  ------        --------------  -----  \n",
      " 0   mpg           397 non-null    float64\n",
      " 1   cylinders     397 non-null    int64  \n",
      " 2   displacement  397 non-null    float64\n",
      " 3   horsepower    397 non-null    object \n",
      " 4   weight        397 non-null    int64  \n",
      " 5   acceleration  397 non-null    float64\n",
      " 6   year          397 non-null    int64  \n",
      " 7   origin        397 non-null    int64  \n",
      " 8   name          397 non-null    object \n",
      "dtypes: float64(3), int64(4), object(2)\n",
      "memory usage: 28.0+ KB\n"
     ]
    }
   ],
   "source": [
    "data.info()"
   ]
  },
  {
   "cell_type": "code",
   "execution_count": 4,
   "metadata": {},
   "outputs": [
    {
     "name": "stdout",
     "output_type": "stream",
     "text": [
      "23.0\n"
     ]
    },
    {
     "data": {
      "text/html": [
       "<div>\n",
       "<style scoped>\n",
       "    .dataframe tbody tr th:only-of-type {\n",
       "        vertical-align: middle;\n",
       "    }\n",
       "\n",
       "    .dataframe tbody tr th {\n",
       "        vertical-align: top;\n",
       "    }\n",
       "\n",
       "    .dataframe thead th {\n",
       "        text-align: right;\n",
       "    }\n",
       "</style>\n",
       "<table border=\"1\" class=\"dataframe\">\n",
       "  <thead>\n",
       "    <tr style=\"text-align: right;\">\n",
       "      <th></th>\n",
       "      <th>mpg</th>\n",
       "      <th>cylinders</th>\n",
       "      <th>displacement</th>\n",
       "      <th>horsepower</th>\n",
       "      <th>weight</th>\n",
       "      <th>acceleration</th>\n",
       "      <th>year</th>\n",
       "      <th>origin</th>\n",
       "      <th>name</th>\n",
       "      <th>mpg01</th>\n",
       "    </tr>\n",
       "  </thead>\n",
       "  <tbody>\n",
       "    <tr>\n",
       "      <th>0</th>\n",
       "      <td>18.0</td>\n",
       "      <td>8</td>\n",
       "      <td>307.0</td>\n",
       "      <td>130</td>\n",
       "      <td>3504</td>\n",
       "      <td>12.0</td>\n",
       "      <td>70</td>\n",
       "      <td>1</td>\n",
       "      <td>chevrolet chevelle malibu</td>\n",
       "      <td>0</td>\n",
       "    </tr>\n",
       "    <tr>\n",
       "      <th>1</th>\n",
       "      <td>15.0</td>\n",
       "      <td>8</td>\n",
       "      <td>350.0</td>\n",
       "      <td>165</td>\n",
       "      <td>3693</td>\n",
       "      <td>11.5</td>\n",
       "      <td>70</td>\n",
       "      <td>1</td>\n",
       "      <td>buick skylark 320</td>\n",
       "      <td>0</td>\n",
       "    </tr>\n",
       "    <tr>\n",
       "      <th>2</th>\n",
       "      <td>18.0</td>\n",
       "      <td>8</td>\n",
       "      <td>318.0</td>\n",
       "      <td>150</td>\n",
       "      <td>3436</td>\n",
       "      <td>11.0</td>\n",
       "      <td>70</td>\n",
       "      <td>1</td>\n",
       "      <td>plymouth satellite</td>\n",
       "      <td>0</td>\n",
       "    </tr>\n",
       "    <tr>\n",
       "      <th>3</th>\n",
       "      <td>16.0</td>\n",
       "      <td>8</td>\n",
       "      <td>304.0</td>\n",
       "      <td>150</td>\n",
       "      <td>3433</td>\n",
       "      <td>12.0</td>\n",
       "      <td>70</td>\n",
       "      <td>1</td>\n",
       "      <td>amc rebel sst</td>\n",
       "      <td>0</td>\n",
       "    </tr>\n",
       "    <tr>\n",
       "      <th>4</th>\n",
       "      <td>17.0</td>\n",
       "      <td>8</td>\n",
       "      <td>302.0</td>\n",
       "      <td>140</td>\n",
       "      <td>3449</td>\n",
       "      <td>10.5</td>\n",
       "      <td>70</td>\n",
       "      <td>1</td>\n",
       "      <td>ford torino</td>\n",
       "      <td>0</td>\n",
       "    </tr>\n",
       "  </tbody>\n",
       "</table>\n",
       "</div>"
      ],
      "text/plain": [
       "    mpg  cylinders  displacement horsepower  weight  acceleration  year  \\\n",
       "0  18.0          8         307.0        130    3504          12.0    70   \n",
       "1  15.0          8         350.0        165    3693          11.5    70   \n",
       "2  18.0          8         318.0        150    3436          11.0    70   \n",
       "3  16.0          8         304.0        150    3433          12.0    70   \n",
       "4  17.0          8         302.0        140    3449          10.5    70   \n",
       "\n",
       "   origin                       name  mpg01  \n",
       "0       1  chevrolet chevelle malibu      0  \n",
       "1       1          buick skylark 320      0  \n",
       "2       1         plymouth satellite      0  \n",
       "3       1              amc rebel sst      0  \n",
       "4       1                ford torino      0  "
      ]
     },
     "execution_count": 4,
     "metadata": {},
     "output_type": "execute_result"
    }
   ],
   "source": [
    "median_mpg = data['mpg'].median()\n",
    "print(median_mpg)\n",
    "data[\"mpg01\"] = np.where(data['mpg'] > median_mpg,1, 0)\n",
    "data.head()"
   ]
  },
  {
   "cell_type": "code",
   "execution_count": 5,
   "metadata": {},
   "outputs": [],
   "source": [
    "data = data.drop(['name', 'mpg'], axis=1)"
   ]
  },
  {
   "cell_type": "code",
   "execution_count": 6,
   "metadata": {},
   "outputs": [],
   "source": [
    "data['horsepower'] = pd.to_numeric(data['horsepower'], errors='coerce')"
   ]
  },
  {
   "cell_type": "code",
   "execution_count": 7,
   "metadata": {},
   "outputs": [
    {
     "data": {
      "text/plain": [
       "0      130.0\n",
       "1      165.0\n",
       "2      150.0\n",
       "3      150.0\n",
       "4      140.0\n",
       "       ...  \n",
       "392     86.0\n",
       "393     52.0\n",
       "394     84.0\n",
       "395     79.0\n",
       "396     82.0\n",
       "Name: horsepower, Length: 397, dtype: float64"
      ]
     },
     "execution_count": 7,
     "metadata": {},
     "output_type": "execute_result"
    }
   ],
   "source": [
    "data['horsepower']"
   ]
  },
  {
   "cell_type": "code",
   "execution_count": 8,
   "metadata": {},
   "outputs": [
    {
     "data": {
      "text/plain": [
       "5"
      ]
     },
     "execution_count": 8,
     "metadata": {},
     "output_type": "execute_result"
    }
   ],
   "source": [
    "data['horsepower'].isnull().sum()"
   ]
  },
  {
   "cell_type": "code",
   "execution_count": 9,
   "metadata": {},
   "outputs": [],
   "source": [
    "data.fillna(data.mean(), inplace=True)"
   ]
  },
  {
   "cell_type": "code",
   "execution_count": 10,
   "metadata": {},
   "outputs": [
    {
     "name": "stdout",
     "output_type": "stream",
     "text": [
      "<class 'pandas.core.frame.DataFrame'>\n",
      "RangeIndex: 397 entries, 0 to 396\n",
      "Data columns (total 8 columns):\n",
      " #   Column        Non-Null Count  Dtype  \n",
      "---  ------        --------------  -----  \n",
      " 0   cylinders     397 non-null    int64  \n",
      " 1   displacement  397 non-null    float64\n",
      " 2   horsepower    397 non-null    float64\n",
      " 3   weight        397 non-null    int64  \n",
      " 4   acceleration  397 non-null    float64\n",
      " 5   year          397 non-null    int64  \n",
      " 6   origin        397 non-null    int64  \n",
      " 7   mpg01         397 non-null    int32  \n",
      "dtypes: float64(3), int32(1), int64(4)\n",
      "memory usage: 23.4 KB\n"
     ]
    }
   ],
   "source": [
    "data.info()"
   ]
  },
  {
   "cell_type": "code",
   "execution_count": 11,
   "metadata": {},
   "outputs": [
    {
     "data": {
      "text/plain": [
       "array([1, 3, 2], dtype=int64)"
      ]
     },
     "execution_count": 11,
     "metadata": {},
     "output_type": "execute_result"
    }
   ],
   "source": [
    "data['origin'].unique()"
   ]
  },
  {
   "cell_type": "code",
   "execution_count": 12,
   "metadata": {},
   "outputs": [
    {
     "data": {
      "text/plain": [
       "array([70, 71, 72, 73, 74, 75, 76, 77, 78, 79, 80, 81, 82], dtype=int64)"
      ]
     },
     "execution_count": 12,
     "metadata": {},
     "output_type": "execute_result"
    }
   ],
   "source": [
    "data['year'].unique()"
   ]
  },
  {
   "cell_type": "code",
   "execution_count": 13,
   "metadata": {},
   "outputs": [
    {
     "data": {
      "text/plain": [
       "array([8, 4, 6, 3, 5], dtype=int64)"
      ]
     },
     "execution_count": 13,
     "metadata": {},
     "output_type": "execute_result"
    }
   ],
   "source": [
    "data['cylinders'].unique()"
   ]
  },
  {
   "cell_type": "code",
   "execution_count": 14,
   "metadata": {},
   "outputs": [],
   "source": [
    "#Changing variables as categorical\n",
    "data[\"origin\"]=data[\"origin\"].astype(\"category\")\n",
    "data[\"year\"]=data[\"year\"].astype(\"category\")"
   ]
  },
  {
   "cell_type": "code",
   "execution_count": 15,
   "metadata": {},
   "outputs": [],
   "source": [
    "y = data['mpg01']\n",
    "\n",
    "X = data.drop(['mpg01'], axis=1)"
   ]
  },
  {
   "cell_type": "code",
   "execution_count": 16,
   "metadata": {},
   "outputs": [
    {
     "data": {
      "text/html": [
       "<div>\n",
       "<style scoped>\n",
       "    .dataframe tbody tr th:only-of-type {\n",
       "        vertical-align: middle;\n",
       "    }\n",
       "\n",
       "    .dataframe tbody tr th {\n",
       "        vertical-align: top;\n",
       "    }\n",
       "\n",
       "    .dataframe thead th {\n",
       "        text-align: right;\n",
       "    }\n",
       "</style>\n",
       "<table border=\"1\" class=\"dataframe\">\n",
       "  <thead>\n",
       "    <tr style=\"text-align: right;\">\n",
       "      <th></th>\n",
       "      <th>cylinders</th>\n",
       "      <th>displacement</th>\n",
       "      <th>horsepower</th>\n",
       "      <th>weight</th>\n",
       "      <th>acceleration</th>\n",
       "      <th>Cat_70</th>\n",
       "      <th>Cat_71</th>\n",
       "      <th>Cat_72</th>\n",
       "      <th>Cat_73</th>\n",
       "      <th>Cat_74</th>\n",
       "      <th>...</th>\n",
       "      <th>Cat_76</th>\n",
       "      <th>Cat_77</th>\n",
       "      <th>Cat_78</th>\n",
       "      <th>Cat_79</th>\n",
       "      <th>Cat_80</th>\n",
       "      <th>Cat_81</th>\n",
       "      <th>Cat_82</th>\n",
       "      <th>Cat_1</th>\n",
       "      <th>Cat_2</th>\n",
       "      <th>Cat_3</th>\n",
       "    </tr>\n",
       "  </thead>\n",
       "  <tbody>\n",
       "    <tr>\n",
       "      <th>0</th>\n",
       "      <td>8</td>\n",
       "      <td>307.0</td>\n",
       "      <td>130.0</td>\n",
       "      <td>3504</td>\n",
       "      <td>12.0</td>\n",
       "      <td>1</td>\n",
       "      <td>0</td>\n",
       "      <td>0</td>\n",
       "      <td>0</td>\n",
       "      <td>0</td>\n",
       "      <td>...</td>\n",
       "      <td>0</td>\n",
       "      <td>0</td>\n",
       "      <td>0</td>\n",
       "      <td>0</td>\n",
       "      <td>0</td>\n",
       "      <td>0</td>\n",
       "      <td>0</td>\n",
       "      <td>1</td>\n",
       "      <td>0</td>\n",
       "      <td>0</td>\n",
       "    </tr>\n",
       "    <tr>\n",
       "      <th>1</th>\n",
       "      <td>8</td>\n",
       "      <td>350.0</td>\n",
       "      <td>165.0</td>\n",
       "      <td>3693</td>\n",
       "      <td>11.5</td>\n",
       "      <td>1</td>\n",
       "      <td>0</td>\n",
       "      <td>0</td>\n",
       "      <td>0</td>\n",
       "      <td>0</td>\n",
       "      <td>...</td>\n",
       "      <td>0</td>\n",
       "      <td>0</td>\n",
       "      <td>0</td>\n",
       "      <td>0</td>\n",
       "      <td>0</td>\n",
       "      <td>0</td>\n",
       "      <td>0</td>\n",
       "      <td>1</td>\n",
       "      <td>0</td>\n",
       "      <td>0</td>\n",
       "    </tr>\n",
       "    <tr>\n",
       "      <th>2</th>\n",
       "      <td>8</td>\n",
       "      <td>318.0</td>\n",
       "      <td>150.0</td>\n",
       "      <td>3436</td>\n",
       "      <td>11.0</td>\n",
       "      <td>1</td>\n",
       "      <td>0</td>\n",
       "      <td>0</td>\n",
       "      <td>0</td>\n",
       "      <td>0</td>\n",
       "      <td>...</td>\n",
       "      <td>0</td>\n",
       "      <td>0</td>\n",
       "      <td>0</td>\n",
       "      <td>0</td>\n",
       "      <td>0</td>\n",
       "      <td>0</td>\n",
       "      <td>0</td>\n",
       "      <td>1</td>\n",
       "      <td>0</td>\n",
       "      <td>0</td>\n",
       "    </tr>\n",
       "    <tr>\n",
       "      <th>3</th>\n",
       "      <td>8</td>\n",
       "      <td>304.0</td>\n",
       "      <td>150.0</td>\n",
       "      <td>3433</td>\n",
       "      <td>12.0</td>\n",
       "      <td>1</td>\n",
       "      <td>0</td>\n",
       "      <td>0</td>\n",
       "      <td>0</td>\n",
       "      <td>0</td>\n",
       "      <td>...</td>\n",
       "      <td>0</td>\n",
       "      <td>0</td>\n",
       "      <td>0</td>\n",
       "      <td>0</td>\n",
       "      <td>0</td>\n",
       "      <td>0</td>\n",
       "      <td>0</td>\n",
       "      <td>1</td>\n",
       "      <td>0</td>\n",
       "      <td>0</td>\n",
       "    </tr>\n",
       "    <tr>\n",
       "      <th>4</th>\n",
       "      <td>8</td>\n",
       "      <td>302.0</td>\n",
       "      <td>140.0</td>\n",
       "      <td>3449</td>\n",
       "      <td>10.5</td>\n",
       "      <td>1</td>\n",
       "      <td>0</td>\n",
       "      <td>0</td>\n",
       "      <td>0</td>\n",
       "      <td>0</td>\n",
       "      <td>...</td>\n",
       "      <td>0</td>\n",
       "      <td>0</td>\n",
       "      <td>0</td>\n",
       "      <td>0</td>\n",
       "      <td>0</td>\n",
       "      <td>0</td>\n",
       "      <td>0</td>\n",
       "      <td>1</td>\n",
       "      <td>0</td>\n",
       "      <td>0</td>\n",
       "    </tr>\n",
       "  </tbody>\n",
       "</table>\n",
       "<p>5 rows × 21 columns</p>\n",
       "</div>"
      ],
      "text/plain": [
       "   cylinders  displacement  horsepower  weight  acceleration  Cat_70  Cat_71  \\\n",
       "0          8         307.0       130.0    3504          12.0       1       0   \n",
       "1          8         350.0       165.0    3693          11.5       1       0   \n",
       "2          8         318.0       150.0    3436          11.0       1       0   \n",
       "3          8         304.0       150.0    3433          12.0       1       0   \n",
       "4          8         302.0       140.0    3449          10.5       1       0   \n",
       "\n",
       "   Cat_72  Cat_73  Cat_74  ...  Cat_76  Cat_77  Cat_78  Cat_79  Cat_80  \\\n",
       "0       0       0       0  ...       0       0       0       0       0   \n",
       "1       0       0       0  ...       0       0       0       0       0   \n",
       "2       0       0       0  ...       0       0       0       0       0   \n",
       "3       0       0       0  ...       0       0       0       0       0   \n",
       "4       0       0       0  ...       0       0       0       0       0   \n",
       "\n",
       "   Cat_81  Cat_82  Cat_1  Cat_2  Cat_3  \n",
       "0       0       0      1      0      0  \n",
       "1       0       0      1      0      0  \n",
       "2       0       0      1      0      0  \n",
       "3       0       0      1      0      0  \n",
       "4       0       0      1      0      0  \n",
       "\n",
       "[5 rows x 21 columns]"
      ]
     },
     "execution_count": 16,
     "metadata": {},
     "output_type": "execute_result"
    }
   ],
   "source": [
    "#introducing dummy variables.\n",
    "X=pd.get_dummies(X,prefix=\"Cat\")\n",
    "\n",
    "X.head()"
   ]
  },
  {
   "cell_type": "code",
   "execution_count": 17,
   "metadata": {},
   "outputs": [],
   "source": [
    "scaler=MinMaxScaler();\n",
    "scaler=scaler.fit(X)\n",
    "\n",
    "scaledData=scaler.transform(X)"
   ]
  },
  {
   "cell_type": "code",
   "execution_count": 18,
   "metadata": {},
   "outputs": [],
   "source": [
    "X =pd.DataFrame(scaledData,columns=X.columns)"
   ]
  },
  {
   "cell_type": "code",
   "execution_count": 19,
   "metadata": {},
   "outputs": [
    {
     "data": {
      "text/html": [
       "<div>\n",
       "<style scoped>\n",
       "    .dataframe tbody tr th:only-of-type {\n",
       "        vertical-align: middle;\n",
       "    }\n",
       "\n",
       "    .dataframe tbody tr th {\n",
       "        vertical-align: top;\n",
       "    }\n",
       "\n",
       "    .dataframe thead th {\n",
       "        text-align: right;\n",
       "    }\n",
       "</style>\n",
       "<table border=\"1\" class=\"dataframe\">\n",
       "  <thead>\n",
       "    <tr style=\"text-align: right;\">\n",
       "      <th></th>\n",
       "      <th>cylinders</th>\n",
       "      <th>displacement</th>\n",
       "      <th>horsepower</th>\n",
       "      <th>weight</th>\n",
       "      <th>acceleration</th>\n",
       "      <th>Cat_70</th>\n",
       "      <th>Cat_71</th>\n",
       "      <th>Cat_72</th>\n",
       "      <th>Cat_73</th>\n",
       "      <th>Cat_74</th>\n",
       "      <th>...</th>\n",
       "      <th>Cat_76</th>\n",
       "      <th>Cat_77</th>\n",
       "      <th>Cat_78</th>\n",
       "      <th>Cat_79</th>\n",
       "      <th>Cat_80</th>\n",
       "      <th>Cat_81</th>\n",
       "      <th>Cat_82</th>\n",
       "      <th>Cat_1</th>\n",
       "      <th>Cat_2</th>\n",
       "      <th>Cat_3</th>\n",
       "    </tr>\n",
       "  </thead>\n",
       "  <tbody>\n",
       "    <tr>\n",
       "      <th>0</th>\n",
       "      <td>1.0</td>\n",
       "      <td>0.617571</td>\n",
       "      <td>0.456522</td>\n",
       "      <td>0.536150</td>\n",
       "      <td>0.238095</td>\n",
       "      <td>1.0</td>\n",
       "      <td>0.0</td>\n",
       "      <td>0.0</td>\n",
       "      <td>0.0</td>\n",
       "      <td>0.0</td>\n",
       "      <td>...</td>\n",
       "      <td>0.0</td>\n",
       "      <td>0.0</td>\n",
       "      <td>0.0</td>\n",
       "      <td>0.0</td>\n",
       "      <td>0.0</td>\n",
       "      <td>0.0</td>\n",
       "      <td>0.0</td>\n",
       "      <td>1.0</td>\n",
       "      <td>0.0</td>\n",
       "      <td>0.0</td>\n",
       "    </tr>\n",
       "    <tr>\n",
       "      <th>1</th>\n",
       "      <td>1.0</td>\n",
       "      <td>0.728682</td>\n",
       "      <td>0.646739</td>\n",
       "      <td>0.589736</td>\n",
       "      <td>0.208333</td>\n",
       "      <td>1.0</td>\n",
       "      <td>0.0</td>\n",
       "      <td>0.0</td>\n",
       "      <td>0.0</td>\n",
       "      <td>0.0</td>\n",
       "      <td>...</td>\n",
       "      <td>0.0</td>\n",
       "      <td>0.0</td>\n",
       "      <td>0.0</td>\n",
       "      <td>0.0</td>\n",
       "      <td>0.0</td>\n",
       "      <td>0.0</td>\n",
       "      <td>0.0</td>\n",
       "      <td>1.0</td>\n",
       "      <td>0.0</td>\n",
       "      <td>0.0</td>\n",
       "    </tr>\n",
       "    <tr>\n",
       "      <th>2</th>\n",
       "      <td>1.0</td>\n",
       "      <td>0.645995</td>\n",
       "      <td>0.565217</td>\n",
       "      <td>0.516870</td>\n",
       "      <td>0.178571</td>\n",
       "      <td>1.0</td>\n",
       "      <td>0.0</td>\n",
       "      <td>0.0</td>\n",
       "      <td>0.0</td>\n",
       "      <td>0.0</td>\n",
       "      <td>...</td>\n",
       "      <td>0.0</td>\n",
       "      <td>0.0</td>\n",
       "      <td>0.0</td>\n",
       "      <td>0.0</td>\n",
       "      <td>0.0</td>\n",
       "      <td>0.0</td>\n",
       "      <td>0.0</td>\n",
       "      <td>1.0</td>\n",
       "      <td>0.0</td>\n",
       "      <td>0.0</td>\n",
       "    </tr>\n",
       "    <tr>\n",
       "      <th>3</th>\n",
       "      <td>1.0</td>\n",
       "      <td>0.609819</td>\n",
       "      <td>0.565217</td>\n",
       "      <td>0.516019</td>\n",
       "      <td>0.238095</td>\n",
       "      <td>1.0</td>\n",
       "      <td>0.0</td>\n",
       "      <td>0.0</td>\n",
       "      <td>0.0</td>\n",
       "      <td>0.0</td>\n",
       "      <td>...</td>\n",
       "      <td>0.0</td>\n",
       "      <td>0.0</td>\n",
       "      <td>0.0</td>\n",
       "      <td>0.0</td>\n",
       "      <td>0.0</td>\n",
       "      <td>0.0</td>\n",
       "      <td>0.0</td>\n",
       "      <td>1.0</td>\n",
       "      <td>0.0</td>\n",
       "      <td>0.0</td>\n",
       "    </tr>\n",
       "    <tr>\n",
       "      <th>4</th>\n",
       "      <td>1.0</td>\n",
       "      <td>0.604651</td>\n",
       "      <td>0.510870</td>\n",
       "      <td>0.520556</td>\n",
       "      <td>0.148810</td>\n",
       "      <td>1.0</td>\n",
       "      <td>0.0</td>\n",
       "      <td>0.0</td>\n",
       "      <td>0.0</td>\n",
       "      <td>0.0</td>\n",
       "      <td>...</td>\n",
       "      <td>0.0</td>\n",
       "      <td>0.0</td>\n",
       "      <td>0.0</td>\n",
       "      <td>0.0</td>\n",
       "      <td>0.0</td>\n",
       "      <td>0.0</td>\n",
       "      <td>0.0</td>\n",
       "      <td>1.0</td>\n",
       "      <td>0.0</td>\n",
       "      <td>0.0</td>\n",
       "    </tr>\n",
       "    <tr>\n",
       "      <th>...</th>\n",
       "      <td>...</td>\n",
       "      <td>...</td>\n",
       "      <td>...</td>\n",
       "      <td>...</td>\n",
       "      <td>...</td>\n",
       "      <td>...</td>\n",
       "      <td>...</td>\n",
       "      <td>...</td>\n",
       "      <td>...</td>\n",
       "      <td>...</td>\n",
       "      <td>...</td>\n",
       "      <td>...</td>\n",
       "      <td>...</td>\n",
       "      <td>...</td>\n",
       "      <td>...</td>\n",
       "      <td>...</td>\n",
       "      <td>...</td>\n",
       "      <td>...</td>\n",
       "      <td>...</td>\n",
       "      <td>...</td>\n",
       "      <td>...</td>\n",
       "    </tr>\n",
       "    <tr>\n",
       "      <th>392</th>\n",
       "      <td>0.2</td>\n",
       "      <td>0.186047</td>\n",
       "      <td>0.217391</td>\n",
       "      <td>0.333711</td>\n",
       "      <td>0.452381</td>\n",
       "      <td>0.0</td>\n",
       "      <td>0.0</td>\n",
       "      <td>0.0</td>\n",
       "      <td>0.0</td>\n",
       "      <td>0.0</td>\n",
       "      <td>...</td>\n",
       "      <td>0.0</td>\n",
       "      <td>0.0</td>\n",
       "      <td>0.0</td>\n",
       "      <td>0.0</td>\n",
       "      <td>0.0</td>\n",
       "      <td>0.0</td>\n",
       "      <td>1.0</td>\n",
       "      <td>1.0</td>\n",
       "      <td>0.0</td>\n",
       "      <td>0.0</td>\n",
       "    </tr>\n",
       "    <tr>\n",
       "      <th>393</th>\n",
       "      <td>0.2</td>\n",
       "      <td>0.074935</td>\n",
       "      <td>0.032609</td>\n",
       "      <td>0.146583</td>\n",
       "      <td>0.988095</td>\n",
       "      <td>0.0</td>\n",
       "      <td>0.0</td>\n",
       "      <td>0.0</td>\n",
       "      <td>0.0</td>\n",
       "      <td>0.0</td>\n",
       "      <td>...</td>\n",
       "      <td>0.0</td>\n",
       "      <td>0.0</td>\n",
       "      <td>0.0</td>\n",
       "      <td>0.0</td>\n",
       "      <td>0.0</td>\n",
       "      <td>0.0</td>\n",
       "      <td>1.0</td>\n",
       "      <td>0.0</td>\n",
       "      <td>1.0</td>\n",
       "      <td>0.0</td>\n",
       "    </tr>\n",
       "    <tr>\n",
       "      <th>394</th>\n",
       "      <td>0.2</td>\n",
       "      <td>0.173127</td>\n",
       "      <td>0.206522</td>\n",
       "      <td>0.193365</td>\n",
       "      <td>0.214286</td>\n",
       "      <td>0.0</td>\n",
       "      <td>0.0</td>\n",
       "      <td>0.0</td>\n",
       "      <td>0.0</td>\n",
       "      <td>0.0</td>\n",
       "      <td>...</td>\n",
       "      <td>0.0</td>\n",
       "      <td>0.0</td>\n",
       "      <td>0.0</td>\n",
       "      <td>0.0</td>\n",
       "      <td>0.0</td>\n",
       "      <td>0.0</td>\n",
       "      <td>1.0</td>\n",
       "      <td>1.0</td>\n",
       "      <td>0.0</td>\n",
       "      <td>0.0</td>\n",
       "    </tr>\n",
       "    <tr>\n",
       "      <th>395</th>\n",
       "      <td>0.2</td>\n",
       "      <td>0.134367</td>\n",
       "      <td>0.179348</td>\n",
       "      <td>0.286929</td>\n",
       "      <td>0.630952</td>\n",
       "      <td>0.0</td>\n",
       "      <td>0.0</td>\n",
       "      <td>0.0</td>\n",
       "      <td>0.0</td>\n",
       "      <td>0.0</td>\n",
       "      <td>...</td>\n",
       "      <td>0.0</td>\n",
       "      <td>0.0</td>\n",
       "      <td>0.0</td>\n",
       "      <td>0.0</td>\n",
       "      <td>0.0</td>\n",
       "      <td>0.0</td>\n",
       "      <td>1.0</td>\n",
       "      <td>1.0</td>\n",
       "      <td>0.0</td>\n",
       "      <td>0.0</td>\n",
       "    </tr>\n",
       "    <tr>\n",
       "      <th>396</th>\n",
       "      <td>0.2</td>\n",
       "      <td>0.131783</td>\n",
       "      <td>0.195652</td>\n",
       "      <td>0.313864</td>\n",
       "      <td>0.678571</td>\n",
       "      <td>0.0</td>\n",
       "      <td>0.0</td>\n",
       "      <td>0.0</td>\n",
       "      <td>0.0</td>\n",
       "      <td>0.0</td>\n",
       "      <td>...</td>\n",
       "      <td>0.0</td>\n",
       "      <td>0.0</td>\n",
       "      <td>0.0</td>\n",
       "      <td>0.0</td>\n",
       "      <td>0.0</td>\n",
       "      <td>0.0</td>\n",
       "      <td>1.0</td>\n",
       "      <td>1.0</td>\n",
       "      <td>0.0</td>\n",
       "      <td>0.0</td>\n",
       "    </tr>\n",
       "  </tbody>\n",
       "</table>\n",
       "<p>397 rows × 21 columns</p>\n",
       "</div>"
      ],
      "text/plain": [
       "     cylinders  displacement  horsepower    weight  acceleration  Cat_70  \\\n",
       "0          1.0      0.617571    0.456522  0.536150      0.238095     1.0   \n",
       "1          1.0      0.728682    0.646739  0.589736      0.208333     1.0   \n",
       "2          1.0      0.645995    0.565217  0.516870      0.178571     1.0   \n",
       "3          1.0      0.609819    0.565217  0.516019      0.238095     1.0   \n",
       "4          1.0      0.604651    0.510870  0.520556      0.148810     1.0   \n",
       "..         ...           ...         ...       ...           ...     ...   \n",
       "392        0.2      0.186047    0.217391  0.333711      0.452381     0.0   \n",
       "393        0.2      0.074935    0.032609  0.146583      0.988095     0.0   \n",
       "394        0.2      0.173127    0.206522  0.193365      0.214286     0.0   \n",
       "395        0.2      0.134367    0.179348  0.286929      0.630952     0.0   \n",
       "396        0.2      0.131783    0.195652  0.313864      0.678571     0.0   \n",
       "\n",
       "     Cat_71  Cat_72  Cat_73  Cat_74  ...  Cat_76  Cat_77  Cat_78  Cat_79  \\\n",
       "0       0.0     0.0     0.0     0.0  ...     0.0     0.0     0.0     0.0   \n",
       "1       0.0     0.0     0.0     0.0  ...     0.0     0.0     0.0     0.0   \n",
       "2       0.0     0.0     0.0     0.0  ...     0.0     0.0     0.0     0.0   \n",
       "3       0.0     0.0     0.0     0.0  ...     0.0     0.0     0.0     0.0   \n",
       "4       0.0     0.0     0.0     0.0  ...     0.0     0.0     0.0     0.0   \n",
       "..      ...     ...     ...     ...  ...     ...     ...     ...     ...   \n",
       "392     0.0     0.0     0.0     0.0  ...     0.0     0.0     0.0     0.0   \n",
       "393     0.0     0.0     0.0     0.0  ...     0.0     0.0     0.0     0.0   \n",
       "394     0.0     0.0     0.0     0.0  ...     0.0     0.0     0.0     0.0   \n",
       "395     0.0     0.0     0.0     0.0  ...     0.0     0.0     0.0     0.0   \n",
       "396     0.0     0.0     0.0     0.0  ...     0.0     0.0     0.0     0.0   \n",
       "\n",
       "     Cat_80  Cat_81  Cat_82  Cat_1  Cat_2  Cat_3  \n",
       "0       0.0     0.0     0.0    1.0    0.0    0.0  \n",
       "1       0.0     0.0     0.0    1.0    0.0    0.0  \n",
       "2       0.0     0.0     0.0    1.0    0.0    0.0  \n",
       "3       0.0     0.0     0.0    1.0    0.0    0.0  \n",
       "4       0.0     0.0     0.0    1.0    0.0    0.0  \n",
       "..      ...     ...     ...    ...    ...    ...  \n",
       "392     0.0     0.0     1.0    1.0    0.0    0.0  \n",
       "393     0.0     0.0     1.0    0.0    1.0    0.0  \n",
       "394     0.0     0.0     1.0    1.0    0.0    0.0  \n",
       "395     0.0     0.0     1.0    1.0    0.0    0.0  \n",
       "396     0.0     0.0     1.0    1.0    0.0    0.0  \n",
       "\n",
       "[397 rows x 21 columns]"
      ]
     },
     "execution_count": 19,
     "metadata": {},
     "output_type": "execute_result"
    }
   ],
   "source": [
    "X"
   ]
  },
  {
   "cell_type": "code",
   "execution_count": 20,
   "metadata": {},
   "outputs": [],
   "source": [
    "#def clean_dataset(df):\n",
    "#    assert isinstance(df, pd.DataFrame), \"df needs to be a pd.DataFrame\"\n",
    "#    df.dropna(inplace=True)\n",
    "#    indices_to_keep = ~df.isin([np.nan, np.inf, -np.inf]).any(1)\n",
    "#    return df[indices_to_keep].astype(np.float64)\n",
    "#clean_dataset(X)"
   ]
  },
  {
   "cell_type": "code",
   "execution_count": 21,
   "metadata": {},
   "outputs": [],
   "source": [
    "X_train,X_test,y_train,y_test = train_test_split(X,y,test_size=0.2)\n"
   ]
  },
  {
   "cell_type": "code",
   "execution_count": 33,
   "metadata": {},
   "outputs": [
    {
     "name": "stdout",
     "output_type": "stream",
     "text": [
      "SVM model C = 1\n",
      "Accuracy:0.9375 \n",
      "Cross Validation Error: 0.2367088607594937\n",
      "              precision    recall  f1-score   support\n",
      "\n",
      "           0       0.93      0.95      0.94        44\n",
      "           1       0.94      0.92      0.93        36\n",
      "\n",
      "    accuracy                           0.94        80\n",
      "   macro avg       0.94      0.94      0.94        80\n",
      "weighted avg       0.94      0.94      0.94        80\n",
      "\n"
     ]
    },
    {
     "data": {
      "image/png": "[encoded data removed]",
      "text/plain": [
       "<Figure size 432x288 with 2 Axes>"
      ]
     },
     "metadata": {
      "needs_background": "light"
     },
     "output_type": "display_data"
    },
    {
     "name": "stdout",
     "output_type": "stream",
     "text": [
      "\n",
      "\n",
      "\n",
      "SVM model C = 2\n",
      "Accuracy:0.9125 \n",
      "Cross Validation Error: 0.264493670886076\n",
      "              precision    recall  f1-score   support\n",
      "\n",
      "           0       0.89      0.95      0.92        44\n",
      "           1       0.94      0.86      0.90        36\n",
      "\n",
      "    accuracy                           0.91        80\n",
      "   macro avg       0.92      0.91      0.91        80\n",
      "weighted avg       0.91      0.91      0.91        80\n",
      "\n"
     ]
    },
    {
     "data": {
      "image/png": "[encoded data removed]",
      "text/plain": [
       "<Figure size 432x288 with 2 Axes>"
      ]
     },
     "metadata": {
      "needs_background": "light"
     },
     "output_type": "display_data"
    },
    {
     "name": "stdout",
     "output_type": "stream",
     "text": [
      "\n",
      "\n",
      "\n",
      "SVM model C = 3\n",
      "Accuracy:0.9125 \n",
      "Cross Validation Error: 0.2569620253164556\n",
      "              precision    recall  f1-score   support\n",
      "\n",
      "           0       0.89      0.95      0.92        44\n",
      "           1       0.94      0.86      0.90        36\n",
      "\n",
      "    accuracy                           0.91        80\n",
      "   macro avg       0.92      0.91      0.91        80\n",
      "weighted avg       0.91      0.91      0.91        80\n",
      "\n"
     ]
    },
    {
     "data": {
      "image/png": "[encoded data removed]",
      "text/plain": [
       "<Figure size 432x288 with 2 Axes>"
      ]
     },
     "metadata": {
      "needs_background": "light"
     },
     "output_type": "display_data"
    },
    {
     "name": "stdout",
     "output_type": "stream",
     "text": [
      "\n",
      "\n",
      "\n",
      "SVM model C = 4\n",
      "Accuracy:0.9125 \n",
      "Cross Validation Error: 0.259493670886076\n",
      "              precision    recall  f1-score   support\n",
      "\n",
      "           0       0.89      0.95      0.92        44\n",
      "           1       0.94      0.86      0.90        36\n",
      "\n",
      "    accuracy                           0.91        80\n",
      "   macro avg       0.92      0.91      0.91        80\n",
      "weighted avg       0.91      0.91      0.91        80\n",
      "\n"
     ]
    },
    {
     "data": {
      "image/png": "[encoded data removed]",
      "text/plain": [
       "<Figure size 432x288 with 2 Axes>"
      ]
     },
     "metadata": {
      "needs_background": "light"
     },
     "output_type": "display_data"
    },
    {
     "name": "stdout",
     "output_type": "stream",
     "text": [
      "\n",
      "\n",
      "\n",
      "SVM model C = 5\n",
      "Accuracy:0.925 \n",
      "Cross Validation Error: 0.24936708860759504\n",
      "              precision    recall  f1-score   support\n",
      "\n",
      "           0       0.91      0.95      0.93        44\n",
      "           1       0.94      0.89      0.91        36\n",
      "\n",
      "    accuracy                           0.93        80\n",
      "   macro avg       0.93      0.92      0.92        80\n",
      "weighted avg       0.93      0.93      0.92        80\n",
      "\n"
     ]
    },
    {
     "data": {
      "image/png": "[encoded data removed]",
      "text/plain": [
       "<Figure size 432x288 with 2 Axes>"
      ]
     },
     "metadata": {
      "needs_background": "light"
     },
     "output_type": "display_data"
    },
    {
     "name": "stdout",
     "output_type": "stream",
     "text": [
      "\n",
      "\n",
      "\n",
      "SVM model C = 10\n",
      "Accuracy:0.9375 \n",
      "Cross Validation Error: 0.2267088607594937\n",
      "              precision    recall  f1-score   support\n",
      "\n",
      "           0       0.93      0.95      0.94        44\n",
      "           1       0.94      0.92      0.93        36\n",
      "\n",
      "    accuracy                           0.94        80\n",
      "   macro avg       0.94      0.94      0.94        80\n",
      "weighted avg       0.94      0.94      0.94        80\n",
      "\n"
     ]
    },
    {
     "data": {
      "image/png": "[encoded data removed]",
      "text/plain": [
       "<Figure size 432x288 with 2 Axes>"
      ]
     },
     "metadata": {
      "needs_background": "light"
     },
     "output_type": "display_data"
    },
    {
     "name": "stdout",
     "output_type": "stream",
     "text": [
      "\n",
      "\n",
      "\n"
     ]
    },
    {
     "data": {
      "image/png": "[encoded data removed]",
      "text/plain": [
       "<Figure size 432x288 with 1 Axes>"
      ]
     },
     "metadata": {
      "needs_background": "light"
     },
     "output_type": "display_data"
    }
   ],
   "source": [
    "C_try = [1,2,3,4,5,10]\n",
    "rmm = []\n",
    "for i in C_try:\n",
    "    \n",
    "    #Initializing a SVM \n",
    "    model = SVC(kernel = 'linear', C = i)\n",
    "    \n",
    "    #Fitting model using best parameters\n",
    "    model.fit(X_train, y_train)\n",
    "    \n",
    "    #Predicting values using said parameters\n",
    "    y_pred = model.predict(X_test)\n",
    "    \n",
    "    print('SVM model C = '+str(i))\n",
    "    #Saving accuracy score of the model in a list\n",
    "    print('Accuracy:{} '.format(accuracy_score(y_test, y_pred)))\n",
    "    \n",
    "   \n",
    "    scores = cross_val_score(model, X, y, cv=5)\n",
    "    \n",
    "    rmm.append(model.score(X_test, y_test))\n",
    "    print('Cross Validation Error: {}'.format(str(1 - scores.mean())))\n",
    "    \n",
    "    print(classification_report(y_test, y_pred))\n",
    "\n",
    "    confusion = confusion_matrix(y_test, y_pred)\n",
    "    \n",
    "    classnames = list(set(y_train))\n",
    "    \n",
    "    #creating a data frame containing confusion matrix data\n",
    "    dataplot = pd.DataFrame(np.mat(confusion), index=classnames, columns=classnames)\n",
    "    \n",
    "    #Plotting a graph on the confusion matrix data\n",
    "    plt.figure()\n",
    "    heatmap = sns.heatmap(dataplot, annot=True, cmap=\"Blues\")\n",
    "    heatmap.yaxis.set_ticklabels(heatmap.yaxis.get_ticklabels(), rotation=0, ha='right')\n",
    "    heatmap.xaxis.set_ticklabels(heatmap.xaxis.get_ticklabels(), rotation=45, ha='right')\n",
    "    plt.ylabel('True label')\n",
    "    plt.xlabel('Predicted label')\n",
    "    plt.title('C = '+ str(i) + ' SVM results')\n",
    "    plt.show()    \n",
    "    print(\"\\n\\n\")\n",
    "\n",
    "plt.plot(C_try, rmm)\n",
    "plt.title('C vs. RMSE')\n",
    "plt.xlabel('C')\n",
    "plt.ylabel('RMSE')\n",
    "plt.show()\n",
    "\n"
   ]
  },
  {
   "cell_type": "markdown",
   "metadata": {},
   "source": [
    "We can see that the RMSE value is lowest, since accuracy is high for C = 1 and C = 10 from the graph above."
   ]
  },
  {
   "cell_type": "code",
   "execution_count": 38,
   "metadata": {},
   "outputs": [
    {
     "name": "stdout",
     "output_type": "stream",
     "text": [
      "SVM model d = 1\n",
      "Accuracy:0.95 \n",
      "Cross Validation Error: 0.22158227848101275\n",
      "              precision    recall  f1-score   support\n",
      "\n",
      "           0       0.95      0.95      0.95        44\n",
      "           1       0.94      0.94      0.94        36\n",
      "\n",
      "    accuracy                           0.95        80\n",
      "   macro avg       0.95      0.95      0.95        80\n",
      "weighted avg       0.95      0.95      0.95        80\n",
      "\n"
     ]
    },
    {
     "data": {
      "image/png": "[encoded data removed]",
      "text/plain": [
       "<Figure size 432x288 with 2 Axes>"
      ]
     },
     "metadata": {
      "needs_background": "light"
     },
     "output_type": "display_data"
    },
    {
     "name": "stdout",
     "output_type": "stream",
     "text": [
      "\n",
      "\n",
      "\n",
      "SVM model d = 2\n",
      "Accuracy:0.9125 \n",
      "Cross Validation Error: 0.254240506329114\n",
      "              precision    recall  f1-score   support\n",
      "\n",
      "           0       0.91      0.93      0.92        44\n",
      "           1       0.91      0.89      0.90        36\n",
      "\n",
      "    accuracy                           0.91        80\n",
      "   macro avg       0.91      0.91      0.91        80\n",
      "weighted avg       0.91      0.91      0.91        80\n",
      "\n"
     ]
    },
    {
     "data": {
      "image/png": "[encoded data removed]",
      "text/plain": [
       "<Figure size 432x288 with 2 Axes>"
      ]
     },
     "metadata": {
      "needs_background": "light"
     },
     "output_type": "display_data"
    },
    {
     "name": "stdout",
     "output_type": "stream",
     "text": [
      "\n",
      "\n",
      "\n",
      "SVM model d = 3\n",
      "Accuracy:0.9125 \n",
      "Cross Validation Error: 0.277373417721519\n",
      "              precision    recall  f1-score   support\n",
      "\n",
      "           0       0.91      0.93      0.92        44\n",
      "           1       0.91      0.89      0.90        36\n",
      "\n",
      "    accuracy                           0.91        80\n",
      "   macro avg       0.91      0.91      0.91        80\n",
      "weighted avg       0.91      0.91      0.91        80\n",
      "\n"
     ]
    },
    {
     "data": {
      "image/png": "[encoded data removed]",
      "text/plain": [
       "<Figure size 432x288 with 2 Axes>"
      ]
     },
     "metadata": {
      "needs_background": "light"
     },
     "output_type": "display_data"
    },
    {
     "name": "stdout",
     "output_type": "stream",
     "text": [
      "\n",
      "\n",
      "\n",
      "SVM model d = 4\n",
      "Accuracy:0.9125 \n",
      "Cross Validation Error: 0.31787974683544307\n",
      "              precision    recall  f1-score   support\n",
      "\n",
      "           0       0.93      0.91      0.92        44\n",
      "           1       0.89      0.92      0.90        36\n",
      "\n",
      "    accuracy                           0.91        80\n",
      "   macro avg       0.91      0.91      0.91        80\n",
      "weighted avg       0.91      0.91      0.91        80\n",
      "\n"
     ]
    },
    {
     "data": {
      "image/png": "[encoded data removed]",
      "text/plain": [
       "<Figure size 432x288 with 2 Axes>"
      ]
     },
     "metadata": {
      "needs_background": "light"
     },
     "output_type": "display_data"
    },
    {
     "name": "stdout",
     "output_type": "stream",
     "text": [
      "\n",
      "\n",
      "\n",
      "SVM model d = 5\n",
      "Accuracy:0.9125 \n",
      "Cross Validation Error: 0.3431012658227848\n",
      "              precision    recall  f1-score   support\n",
      "\n",
      "           0       0.93      0.91      0.92        44\n",
      "           1       0.89      0.92      0.90        36\n",
      "\n",
      "    accuracy                           0.91        80\n",
      "   macro avg       0.91      0.91      0.91        80\n",
      "weighted avg       0.91      0.91      0.91        80\n",
      "\n"
     ]
    },
    {
     "data": {
      "image/png": "[encoded data removed]",
      "text/plain": [
       "<Figure size 432x288 with 2 Axes>"
      ]
     },
     "metadata": {
      "needs_background": "light"
     },
     "output_type": "display_data"
    },
    {
     "name": "stdout",
     "output_type": "stream",
     "text": [
      "\n",
      "\n",
      "\n",
      "SVM model d = 6\n",
      "Accuracy:0.9125 \n",
      "Cross Validation Error: 0.3557911392405063\n",
      "              precision    recall  f1-score   support\n",
      "\n",
      "           0       0.93      0.91      0.92        44\n",
      "           1       0.89      0.92      0.90        36\n",
      "\n",
      "    accuracy                           0.91        80\n",
      "   macro avg       0.91      0.91      0.91        80\n",
      "weighted avg       0.91      0.91      0.91        80\n",
      "\n"
     ]
    },
    {
     "data": {
      "image/png": "[encoded data removed]",
      "text/plain": [
       "<Figure size 432x288 with 2 Axes>"
      ]
     },
     "metadata": {
      "needs_background": "light"
     },
     "output_type": "display_data"
    },
    {
     "name": "stdout",
     "output_type": "stream",
     "text": [
      "\n",
      "\n",
      "\n",
      "SVM model d = 8\n",
      "Accuracy:0.925 \n",
      "Cross Validation Error: 0.345506329113924\n",
      "              precision    recall  f1-score   support\n",
      "\n",
      "           0       0.93      0.93      0.93        44\n",
      "           1       0.92      0.92      0.92        36\n",
      "\n",
      "    accuracy                           0.93        80\n",
      "   macro avg       0.92      0.92      0.92        80\n",
      "weighted avg       0.93      0.93      0.93        80\n",
      "\n"
     ]
    },
    {
     "data": {
      "image/png": "[encoded data removed]",
      "text/plain": [
       "<Figure size 432x288 with 2 Axes>"
      ]
     },
     "metadata": {
      "needs_background": "light"
     },
     "output_type": "display_data"
    },
    {
     "name": "stdout",
     "output_type": "stream",
     "text": [
      "\n",
      "\n",
      "\n",
      "SVM model d = 10\n",
      "Accuracy:0.9125 \n",
      "Cross Validation Error: 0.36306962025316447\n",
      "              precision    recall  f1-score   support\n",
      "\n",
      "           0       0.91      0.93      0.92        44\n",
      "           1       0.91      0.89      0.90        36\n",
      "\n",
      "    accuracy                           0.91        80\n",
      "   macro avg       0.91      0.91      0.91        80\n",
      "weighted avg       0.91      0.91      0.91        80\n",
      "\n"
     ]
    },
    {
     "data": {
      "image/png": "[encoded data removed]",
      "text/plain": [
       "<Figure size 432x288 with 2 Axes>"
      ]
     },
     "metadata": {
      "needs_background": "light"
     },
     "output_type": "display_data"
    },
    {
     "name": "stdout",
     "output_type": "stream",
     "text": [
      "\n",
      "\n",
      "\n",
      "SVM model d = 15\n",
      "Accuracy:0.925 \n",
      "Cross Validation Error: 0.38079113924050634\n",
      "              precision    recall  f1-score   support\n",
      "\n",
      "           0       0.95      0.91      0.93        44\n",
      "           1       0.89      0.94      0.92        36\n",
      "\n",
      "    accuracy                           0.93        80\n",
      "   macro avg       0.92      0.93      0.92        80\n",
      "weighted avg       0.93      0.93      0.93        80\n",
      "\n"
     ]
    },
    {
     "data": {
      "image/png": "[encoded data removed]",
      "text/plain": [
       "<Figure size 432x288 with 2 Axes>"
      ]
     },
     "metadata": {
      "needs_background": "light"
     },
     "output_type": "display_data"
    },
    {
     "name": "stdout",
     "output_type": "stream",
     "text": [
      "\n",
      "\n",
      "\n"
     ]
    },
    {
     "data": {
      "image/png": "[encoded data removed]",
      "text/plain": [
       "<Figure size 432x288 with 1 Axes>"
      ]
     },
     "metadata": {
      "needs_background": "light"
     },
     "output_type": "display_data"
    }
   ],
   "source": [
    "#Choosing the d to iterate on\n",
    "d_try = [ 1, 2, 3, 4, 5, 6, 8, 10, 15]\n",
    "\n",
    "RMM1 = []\n",
    "for i in d_try:\n",
    "    \n",
    "    \n",
    "     #Initializing a SVM \n",
    "    model = SVC(kernel = 'poly', C = 1, degree = i)\n",
    "    \n",
    "    #Fitting model using d values\n",
    "    model.fit(X_train, y_train)\n",
    "    \n",
    "    #Predicting values using said parameters\n",
    "    y_pred = model.predict(X_test)\n",
    "    \n",
    "    print('SVM model d = '+str(i))\n",
    "    #Saving accuracy score of the model in a list\n",
    "    print('Accuracy:{} '.format(accuracy_score(y_test, y_pred)))\n",
    "    \n",
    "   \n",
    "    scores = cross_val_score(model, X, y, cv=5)\n",
    "    \n",
    "    RMM1.append(model.score(X_test, y_test))\n",
    "    print('Cross Validation Error: {}'.format(str(1 - scores.mean())))\n",
    "    \n",
    "    print(classification_report(y_test, y_pred))\n",
    "\n",
    "    confusion = confusion_matrix(y_test, y_pred)\n",
    "    \n",
    "    classnames = list(set(y_train))\n",
    "    \n",
    "    #creating a data frame containing confusion matrix data\n",
    "    dataplot = pd.DataFrame(np.mat(confusion), index=classnames, columns=classnames)\n",
    "    \n",
    "    #Plotting a graph on the confusion matrix data\n",
    "    plt.figure()\n",
    "    heatmap = sns.heatmap(dataplot, annot=True, cmap=\"Blues\")\n",
    "    heatmap.yaxis.set_ticklabels(heatmap.yaxis.get_ticklabels(), rotation=0, ha='right')\n",
    "    heatmap.xaxis.set_ticklabels(heatmap.xaxis.get_ticklabels(), rotation=45, ha='right')\n",
    "    plt.ylabel('True label')\n",
    "    plt.xlabel('Predicted label')\n",
    "    plt.title('d = '+ str(i) + ' SVM results')\n",
    "    plt.show()    \n",
    "    print(\"\\n\\n\")\n",
    "\n",
    "plt.plot(d_try, RMM1)\n",
    "plt.title('d vs. RMSE')\n",
    "plt.xlabel('d')\n",
    "plt.ylabel('RMSE')\n",
    "plt.show()\n"
   ]
  },
  {
   "cell_type": "markdown",
   "metadata": {},
   "source": [
    "In our fit with a polynomial kernal with degree =  1, it leads to the linear seperation. \n",
    "\n",
    "As the degree increases, with increasing flexibility, our model seems to fit poorly. As we keep increaasing\n",
    "the flexibility of the model: over fitting occurs and hence the accuracy drops . \n",
    "\n",
    "Linear seperation is working best for the data we have."
   ]
  },
  {
   "cell_type": "code",
   "execution_count": 41,
   "metadata": {},
   "outputs": [
    {
     "name": "stdout",
     "output_type": "stream",
     "text": [
      "SVM model d = 0.0001\n",
      "Accuracy:0.55 \n",
      "Cross Validation Error: 0.48110759493670874\n",
      "              precision    recall  f1-score   support\n",
      "\n",
      "           0       0.55      1.00      0.71        44\n",
      "           1       0.00      0.00      0.00        36\n",
      "\n",
      "    accuracy                           0.55        80\n",
      "   macro avg       0.28      0.50      0.35        80\n",
      "weighted avg       0.30      0.55      0.39        80\n",
      "\n"
     ]
    },
    {
     "name": "stderr",
     "output_type": "stream",
     "text": [
      "C:\\Users\\shrik\\anaconda3\\lib\\site-packages\\sklearn\\metrics\\_classification.py:1272: UndefinedMetricWarning: Precision and F-score are ill-defined and being set to 0.0 in labels with no predicted samples. Use `zero_division` parameter to control this behavior.\n",
      "  _warn_prf(average, modifier, msg_start, len(result))\n"
     ]
    },
    {
     "data": {
      "image/png": "[encoded data removed]",
      "text/plain": [
       "<Figure size 432x288 with 2 Axes>"
      ]
     },
     "metadata": {
      "needs_background": "light"
     },
     "output_type": "display_data"
    },
    {
     "name": "stdout",
     "output_type": "stream",
     "text": [
      "\n",
      "\n",
      "\n",
      "SVM model d = 0.001\n",
      "Accuracy:0.55 \n",
      "Cross Validation Error: 0.48110759493670874\n",
      "              precision    recall  f1-score   support\n",
      "\n",
      "           0       0.55      1.00      0.71        44\n",
      "           1       0.00      0.00      0.00        36\n",
      "\n",
      "    accuracy                           0.55        80\n",
      "   macro avg       0.28      0.50      0.35        80\n",
      "weighted avg       0.30      0.55      0.39        80\n",
      "\n"
     ]
    },
    {
     "name": "stderr",
     "output_type": "stream",
     "text": [
      "C:\\Users\\shrik\\anaconda3\\lib\\site-packages\\sklearn\\metrics\\_classification.py:1272: UndefinedMetricWarning: Precision and F-score are ill-defined and being set to 0.0 in labels with no predicted samples. Use `zero_division` parameter to control this behavior.\n",
      "  _warn_prf(average, modifier, msg_start, len(result))\n"
     ]
    },
    {
     "data": {
      "image/png": "[encoded data removed]",
      "text/plain": [
       "<Figure size 432x288 with 2 Axes>"
      ]
     },
     "metadata": {
      "needs_background": "light"
     },
     "output_type": "display_data"
    },
    {
     "name": "stdout",
     "output_type": "stream",
     "text": [
      "\n",
      "\n",
      "\n",
      "SVM model d = 0.01\n",
      "Accuracy:0.8625 \n",
      "Cross Validation Error: 0.1663607594936709\n",
      "              precision    recall  f1-score   support\n",
      "\n",
      "           0       0.92      0.82      0.87        44\n",
      "           1       0.80      0.92      0.86        36\n",
      "\n",
      "    accuracy                           0.86        80\n",
      "   macro avg       0.86      0.87      0.86        80\n",
      "weighted avg       0.87      0.86      0.86        80\n",
      "\n"
     ]
    },
    {
     "data": {
      "image/png": "[encoded data removed]",
      "text/plain": [
       "<Figure size 432x288 with 2 Axes>"
      ]
     },
     "metadata": {
      "needs_background": "light"
     },
     "output_type": "display_data"
    },
    {
     "name": "stdout",
     "output_type": "stream",
     "text": [
      "\n",
      "\n",
      "\n",
      "SVM model d = 1\n",
      "Accuracy:0.9125 \n",
      "Cross Validation Error: 0.3808860759493671\n",
      "              precision    recall  f1-score   support\n",
      "\n",
      "           0       0.91      0.93      0.92        44\n",
      "           1       0.91      0.89      0.90        36\n",
      "\n",
      "    accuracy                           0.91        80\n",
      "   macro avg       0.91      0.91      0.91        80\n",
      "weighted avg       0.91      0.91      0.91        80\n",
      "\n"
     ]
    },
    {
     "data": {
      "image/png": "[encoded data removed]",
      "text/plain": [
       "<Figure size 432x288 with 2 Axes>"
      ]
     },
     "metadata": {
      "needs_background": "light"
     },
     "output_type": "display_data"
    },
    {
     "name": "stdout",
     "output_type": "stream",
     "text": [
      "\n",
      "\n",
      "\n"
     ]
    },
    {
     "data": {
      "image/png": "[encoded data removed]",
      "text/plain": [
       "<Figure size 432x288 with 1 Axes>"
      ]
     },
     "metadata": {
      "needs_background": "light"
     },
     "output_type": "display_data"
    }
   ],
   "source": [
    "#Choosing the d to iterate on\n",
    "g = [0.0001, 0.001, 0.01, 1]\n",
    "RMM2 = []\n",
    "for i in g:\n",
    "    \n",
    "    \n",
    "     #Initializing a SVM \n",
    "    model = SVC(kernel = 'rbf', C = 1, gamma = i)\n",
    "    \n",
    "    #Fitting model using d values\n",
    "    model.fit(X_train, y_train)\n",
    "    \n",
    "    #Predicting values using said parameters\n",
    "    y_pred = model.predict(X_test)\n",
    "    \n",
    "    print('SVM model d = '+str(i))\n",
    "    #Saving accuracy score of the model in a list\n",
    "    print('Accuracy:{} '.format(accuracy_score(y_test, y_pred)))\n",
    "    \n",
    "   \n",
    "    scores = cross_val_score(model, X, y, cv=5)\n",
    "    \n",
    "    RMM2.append(model.score(X_test, y_test))\n",
    "    print('Cross Validation Error: {}'.format(str(1 - scores.mean())))\n",
    "    \n",
    "    print(classification_report(y_test, y_pred))\n",
    "\n",
    "    confusion = confusion_matrix(y_test, y_pred)\n",
    "    \n",
    "    classnames = list(set(y_train))\n",
    "    \n",
    "    #creating a data frame containing confusion matrix data\n",
    "    dataplot = pd.DataFrame(np.mat(confusion), index=classnames, columns=classnames)\n",
    "    \n",
    "    #Plotting a graph on the confusion matrix data\n",
    "    plt.figure()\n",
    "    heatmap = sns.heatmap(dataplot, annot=True, cmap=\"Blues\")\n",
    "    heatmap.yaxis.set_ticklabels(heatmap.yaxis.get_ticklabels(), rotation=0, ha='right')\n",
    "    heatmap.xaxis.set_ticklabels(heatmap.xaxis.get_ticklabels(), rotation=45, ha='right')\n",
    "    plt.ylabel('True label')\n",
    "    plt.xlabel('Predicted label')\n",
    "    plt.title('d = '+ str(i) + ' SVM results')\n",
    "    plt.show()    \n",
    "    print(\"\\n\\n\")\n",
    "\n",
    "plt.plot(g, RMM2)\n",
    "plt.title('g vs. RMSE')\n",
    "plt.xlabel('g')\n",
    "plt.ylabel('RMSE')\n",
    "plt.show()"
   ]
  },
  {
   "cell_type": "markdown",
   "metadata": {},
   "source": [
    "With increasing gamma values, our model's accuracy keeps increasing, this is shown in the graph above. g = 1 is best"
   ]
  },
  {
   "cell_type": "code",
   "execution_count": null,
   "metadata": {},
   "outputs": [],
   "source": []
  }
 ],
 "metadata": {
  "kernelspec": {
   "display_name": "Python 3",
   "language": "python",
   "name": "python3"
  },
  "language_info": {
   "codemirror_mode": {
    "name": "ipython",
    "version": 3
   },
   "file_extension": ".py",
   "mimetype": "text/x-python",
   "name": "python",
   "nbconvert_exporter": "python",
   "pygments_lexer": "ipython3",
   "version": "3.7.6"
  }
 },
 "nbformat": 4,
 "nbformat_minor": 4
}
